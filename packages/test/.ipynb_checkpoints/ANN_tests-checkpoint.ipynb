{
 "cells": [
  {
   "cell_type": "code",
   "execution_count": 1,
   "metadata": {},
   "outputs": [
    {
     "name": "stderr",
     "output_type": "stream",
     "text": [
      "C:\\Users\\skyst\\Anaconda3\\envs\\tf\\lib\\site-packages\\sklearn\\externals\\joblib\\__init__.py:15: FutureWarning: sklearn.externals.joblib is deprecated in 0.21 and will be removed in 0.23. Please import this functionality directly from joblib, which can be installed with: pip install joblib. If this warning is raised when loading pickled models, you may need to re-serialize those models with scikit-learn 0.21+.\n",
      "  warnings.warn(msg, category=FutureWarning)\n",
      "C:\\Users\\skyst\\Anaconda3\\envs\\tf\\lib\\site-packages\\IPython\\core\\interactiveshell.py:3254: DtypeWarning: Columns (82,86,87,103,104,105,108,109,111,113,114,124,139,141,142,143,147) have mixed types.Specify dtype option on import or set low_memory=False.\n",
      "  if (await self.run_code(code, result,  async_=asy)):\n",
      "C:\\Users\\skyst\\Anaconda3\\envs\\tf\\lib\\site-packages\\IPython\\core\\interactiveshell.py:3254: DtypeWarning: Columns (103,104,105,108,109,111,113,114,124,142,143) have mixed types.Specify dtype option on import or set low_memory=False.\n",
      "  if (await self.run_code(code, result,  async_=asy)):\n"
     ]
    }
   ],
   "source": [
    "from tf_ann_model.processing.data_management import load_dataset\n",
    "train = load_dataset(file_name='AWID-CLS-R-Trn.csv')\n",
    "test = load_dataset(file_name='AWID-CLS-R-Tst.csv')"
   ]
  },
  {
   "cell_type": "code",
   "execution_count": 2,
   "metadata": {},
   "outputs": [],
   "source": [
    "from tf_ann_model.processing.data_management import prepare_data\n",
    "\n",
    "X_train, y_train = prepare_data(train, train_data=True)\n",
    "X_test, y_test = prepare_data(test, train_data=False)"
   ]
  },
  {
   "cell_type": "code",
   "execution_count": 3,
   "metadata": {},
   "outputs": [
    {
     "name": "stderr",
     "output_type": "stream",
     "text": [
      "C:\\Users\\skyst\\Anaconda3\\envs\\tf\\lib\\pickle.py:1376: DtypeWarning: Columns (82,86,87,103,104,105,108,109,111,113,114,124,139,141,142,143,147) have mixed types.Specify dtype option on import or set low_memory=False.\n",
      "  klass = self.find_class(module, name)\n",
      "C:\\Users\\skyst\\Anaconda3\\envs\\tf\\lib\\pickle.py:1376: DtypeWarning: Columns (103,104,105,108,109,111,113,114,124,142,143) have mixed types.Specify dtype option on import or set low_memory=False.\n",
      "  klass = self.find_class(module, name)\n"
     ]
    }
   ],
   "source": [
    "from tf_ann_model.processing.data_management import load_pipeline_keras\n",
    "tf_ann_pipe = load_pipeline_keras()"
   ]
  },
  {
   "cell_type": "code",
   "execution_count": 4,
   "metadata": {},
   "outputs": [
    {
     "name": "stdout",
     "output_type": "stream",
     "text": [
      "216513/216513 [==============================] - 0s 2us/sample\n",
      "59811/59811 [==============================] - 0s 1us/sample\n"
     ]
    }
   ],
   "source": [
    "y_train_pred = tf_ann_pipe.predict(X_train)\n",
    "y_test_pred = tf_ann_pipe.predict(X_test)"
   ]
  },
  {
   "cell_type": "code",
   "execution_count": 5,
   "metadata": {},
   "outputs": [],
   "source": [
    "from sklearn.metrics import classification_report\n",
    "from sklearn.metrics import confusion_matrix\n",
    "import matplotlib.pyplot as plt\n",
    "import seaborn as sns"
   ]
  },
  {
   "cell_type": "code",
   "execution_count": 10,
   "metadata": {},
   "outputs": [],
   "source": [
    "import numpy as np\n",
    "from tf_ann_model.config import config\n",
    "from sklearn.externals import joblib\n",
    "\n",
    "encoder = joblib.load(config.ENCODER_PATH)\n",
    "y_train = np.argmax(y_train, axis=1)\n",
    "y_train = encoder.inverse_transform(y_train)\n",
    "y_test = np.argmax(y_test, axis=1)\n",
    "y_test = encoder.inverse_transform(y_test)\n",
    "\n",
    "y_train_pred = encoder.inverse_transform(y_train_pred)\n",
    "y_test_pred = encoder.inverse_transform(y_test_pred)"
   ]
  },
  {
   "cell_type": "code",
   "execution_count": 11,
   "metadata": {},
   "outputs": [
    {
     "name": "stdout",
     "output_type": "stream",
     "text": [
      "               precision    recall  f1-score   support\n",
      "\n",
      "     flooding       1.00      1.00      1.00     48484\n",
      "impersonation       1.00      1.00      1.00     48522\n",
      "    injection       1.00      1.00      1.00     65379\n",
      "       normal       1.00      1.00      1.00     54128\n",
      "\n",
      "     accuracy                           1.00    216513\n",
      "    macro avg       1.00      1.00      1.00    216513\n",
      " weighted avg       1.00      1.00      1.00    216513\n",
      "\n"
     ]
    }
   ],
   "source": [
    "print(classification_report(y_train, y_train_pred))"
   ]
  },
  {
   "cell_type": "code",
   "execution_count": 12,
   "metadata": {},
   "outputs": [
    {
     "data": {
      "image/png": "[encoded data removed]",
      "text/plain": [
       "<Figure size 720x720 with 2 Axes>"
      ]
     },
     "metadata": {
      "needs_background": "light"
     },
     "output_type": "display_data"
    }
   ],
   "source": [
    "labels = ['flooding', 'impersonation', 'injection', 'normal']\n",
    "cm = confusion_matrix(y_train, y_train_pred, labels)\n",
    "plt.figure(figsize=(10,10))\n",
    "ax= plt.subplot()\n",
    "sns.heatmap(cm, annot=True, ax = ax); #annot=True to annotate cells\n",
    "\n",
    "# labels, title and ticks\n",
    "ax.set_xlabel('Predicted labels');ax.set_ylabel('True labels'); \n",
    "ax.set_title('Confusion Matrix'); \n",
    "ax.xaxis.set_ticklabels(labels); ax.yaxis.set_ticklabels(labels);"
   ]
  },
  {
   "cell_type": "code",
   "execution_count": 13,
   "metadata": {},
   "outputs": [
    {
     "name": "stdout",
     "output_type": "stream",
     "text": [
      "               precision    recall  f1-score   support\n",
      "\n",
      "     flooding       1.00      0.61      0.76      8097\n",
      "impersonation       0.80      0.93      0.86     20079\n",
      "    injection       0.99      0.99      0.99     16682\n",
      "       normal       0.75      0.74      0.74     14953\n",
      "\n",
      "     accuracy                           0.86     59811\n",
      "    macro avg       0.88      0.82      0.84     59811\n",
      " weighted avg       0.87      0.86      0.85     59811\n",
      "\n"
     ]
    }
   ],
   "source": [
    "print(classification_report(y_test, y_test_pred))"
   ]
  },
  {
   "cell_type": "code",
   "execution_count": 14,
   "metadata": {},
   "outputs": [
    {
     "data": {
      "image/png": "[encoded data removed]",
      "text/plain": [
       "<Figure size 720x720 with 2 Axes>"
      ]
     },
     "metadata": {
      "needs_background": "light"
     },
     "output_type": "display_data"
    }
   ],
   "source": [
    "labels = ['flooding', 'impersonation', 'injection', 'normal']\n",
    "cm = confusion_matrix(y_test, y_test_pred, labels)\n",
    "plt.figure(figsize=(10,10))\n",
    "ax= plt.subplot()\n",
    "sns.heatmap(cm, annot=True, ax = ax); #annot=True to annotate cells\n",
    "\n",
    "# labels, title and ticks\n",
    "ax.set_xlabel('Predicted labels');ax.set_ylabel('True labels');\n",
    "ax.set_title('Confusion Matrix');\n",
    "ax.xaxis.set_ticklabels(labels); ax.yaxis.set_ticklabels(labels);"
   ]
  },
  {
   "cell_type": "code",
   "execution_count": 15,
   "metadata": {},
   "outputs": [
    {
     "data": {
      "text/plain": [
       "[('oc',\n",
       "  outlier_capping(distribution='quantiles',\n",
       "                  features=['frame.interface_id', 'frame.dlt',\n",
       "                            'frame.offset_shift', 'frame.time_delta',\n",
       "                            'frame.time_delta_displayed', 'frame.time_relative',\n",
       "                            'frame.len', 'frame.cap_len', 'frame.marked',\n",
       "                            'frame.ignored', 'radiotap.version', 'radiotap.pad',\n",
       "                            'radiotap.length', 'radiotap.present.tsft',\n",
       "                            'radiotap.present.flags', 'radiotap.prese...\n",
       "                            'radiotap.present.dbm_antnoise',\n",
       "                            'radiotap.present.lock_quality',\n",
       "                            'radiotap.present.tx_attenuation',\n",
       "                            'radiotap.present.db_tx_attenuation',\n",
       "                            'radiotap.present.dbm_tx_power',\n",
       "                            'radiotap.present.antenna',\n",
       "                            'radiotap.present.db_antsignal',\n",
       "                            'radiotap.present.db_antnoise',\n",
       "                            'radiotap.present.rxflags',\n",
       "                            'radiotap.present.xchannel', 'radiotap.present.mcs', ...],\n",
       "                  fold=3, tail='both')),\n",
       " ('cme2',\n",
       "  categ_missing_encoder(features=['wlan.sa', 'wlan.bssid', 'wlan.bar.type',\n",
       "                                  'wlan.bar.compressed.tidinfo', 'wlan.ba.bm',\n",
       "                                  'wlan_mgt.fixed.capabilities.cfpoll.ap',\n",
       "                                  'wlan_mgt.fixed.listen_ival',\n",
       "                                  'wlan_mgt.fixed.current_ap',\n",
       "                                  'wlan_mgt.fixed.status_code',\n",
       "                                  'wlan_mgt.fixed.timestamp',\n",
       "                                  'wlan_mgt.fixed.aid',\n",
       "                                  'wlan_mgt.fixed.reason_code',\n",
       "                                  'wlan_mgt.fixed.auth_seq',\n",
       "                                  'wlan_mgt.fixed.htact',\n",
       "                                  'wlan_mgt.fixed.chanwidth', 'wlan_mgt.ssid',\n",
       "                                  'wlan_mgt.tim.bmapctl.offset',\n",
       "                                  'wlan_mgt.country_info.environment',\n",
       "                                  'wlan_mgt.rsn.capabilities.ptksa_replay_counter',\n",
       "                                  'wlan_mgt.rsn.capabilities.gtksa_replay_counter',\n",
       "                                  'wlan.tkip.extiv', 'wlan.ccmp.extiv',\n",
       "                                  'wlan.qos.ack'])),\n",
       " ('rle',\n",
       "  rare_label_encoder(features=['radiotap.present.reserved',\n",
       "                               'wlan.fc.type_subtype', 'wlan.fc.ds', 'wlan.ra',\n",
       "                               'wlan.da', 'wlan.ta', 'wlan.sa', 'wlan.bssid',\n",
       "                               'wlan.bar.type', 'wlan.bar.compressed.tidinfo',\n",
       "                               'wlan.ba.bm',\n",
       "                               'wlan_mgt.fixed.capabilities.cfpoll.ap',\n",
       "                               'wlan_mgt.fixed.listen_ival',\n",
       "                               'wlan_mgt.fixed.current_ap',\n",
       "                               'wlan_mgt.fixed.status_code',\n",
       "                               'wlan_mgt.fixed.tim...\n",
       "                               'wlan_mgt.fixed.reason_code',\n",
       "                               'wlan_mgt.fixed.auth_seq', 'wlan_mgt.fixed.htact',\n",
       "                               'wlan_mgt.fixed.chanwidth', 'wlan_mgt.ssid',\n",
       "                               'wlan_mgt.tim.bmapctl.offset',\n",
       "                               'wlan_mgt.country_info.environment',\n",
       "                               'wlan_mgt.rsn.capabilities.ptksa_replay_counter',\n",
       "                               'wlan_mgt.rsn.capabilities.gtksa_replay_counter',\n",
       "                               'wlan.wep.iv', 'wlan.wep.icv', 'wlan.tkip.extiv',\n",
       "                               'wlan.ccmp.extiv', ...],\n",
       "                     tol=0.0001)),\n",
       " ('ani',\n",
       "  ArbitraryNumberImputer(arbitrary_number=-999,\n",
       "                         features=['frame.interface_id', 'frame.dlt',\n",
       "                                   'frame.offset_shift', 'frame.time_epoch',\n",
       "                                   'frame.time_delta',\n",
       "                                   'frame.time_delta_displayed',\n",
       "                                   'frame.time_relative', 'frame.len',\n",
       "                                   'frame.cap_len', 'frame.marked',\n",
       "                                   'frame.ignored', 'radiotap.version',\n",
       "                                   'radiotap.pad', 'radiotap.length',\n",
       "                                   'radiotap.present.tsft',\n",
       "                                   'radiotap.present...\n",
       "                                   'radiotap.present.dbm_antsignal',\n",
       "                                   'radiotap.present.dbm_antnoise',\n",
       "                                   'radiotap.present.lock_quality',\n",
       "                                   'radiotap.present.tx_attenuation',\n",
       "                                   'radiotap.present.db_tx_attenuation',\n",
       "                                   'radiotap.present.dbm_tx_power',\n",
       "                                   'radiotap.present.antenna',\n",
       "                                   'radiotap.present.db_antsignal',\n",
       "                                   'radiotap.present.db_antnoise',\n",
       "                                   'radiotap.present.rxflags',\n",
       "                                   'radiotap.present.xchannel', ...])),\n",
       " ('le',\n",
       "  label_encoder(encoding_method='arbitrary',\n",
       "                features=['radiotap.present.reserved', 'wlan.fc.type_subtype',\n",
       "                          'wlan.fc.ds', 'wlan.ra', 'wlan.da', 'wlan.ta',\n",
       "                          'wlan.sa', 'wlan.bssid', 'wlan.bar.type',\n",
       "                          'wlan.bar.compressed.tidinfo', 'wlan.ba.bm',\n",
       "                          'wlan_mgt.fixed.capabilities.cfpoll.ap',\n",
       "                          'wlan_mgt.fixed.listen_ival',\n",
       "                          'wlan_mgt.fixed.current_ap',\n",
       "                          'wlan_mgt.fixed.status_co...\n",
       "                          'wlan_mgt.fixed.reason_code', 'wlan_mgt.fixed.auth_seq',\n",
       "                          'wlan_mgt.fixed.htact', 'wlan_mgt.fixed.chanwidth',\n",
       "                          'wlan_mgt.ssid', 'wlan_mgt.tim.bmapctl.offset',\n",
       "                          'wlan_mgt.country_info.environment',\n",
       "                          'wlan_mgt.rsn.capabilities.ptksa_replay_counter',\n",
       "                          'wlan_mgt.rsn.capabilities.gtksa_replay_counter',\n",
       "                          'wlan.wep.iv', 'wlan.wep.icv', 'wlan.tkip.extiv',\n",
       "                          'wlan.ccmp.extiv', ...])),\n",
       " ('sd',\n",
       "  selected_drop_features(features=['frame.time_epoch', 'passed1second',\n",
       "                                   'wlan.wep.iv', 'wlan.wep.icv', 'wlan.ta',\n",
       "                                   'wlan.ra', 'wlan.ra', 'wlan.da'])),\n",
       " ('rc', remove_constant(features=[])),\n",
       " ('rqc', remove_quasi_constant(features=[], threshold=0.01)),\n",
       " ('rcf',\n",
       "  remove_correlated_features(features=['frame.time_delta',\n",
       "                                       'frame.time_delta_displayed',\n",
       "                                       'frame.time_relative', 'frame.len',\n",
       "                                       'frame.cap_len', 'radiotap.mactime',\n",
       "                                       'radiotap.flags.cfp',\n",
       "                                       'radiotap.flags.preamble',\n",
       "                                       'radiotap.flags.wep',\n",
       "                                       'radiotap.flags.frag',\n",
       "                                       'radiotap.flags.fcs',\n",
       "                                       'radiotap.flags.datapad',\n",
       "                                       'radiotap.flags.badfcs',\n",
       "                                       'radiotap.flags.shortgi',\n",
       "                                       'radiotap.d...\n",
       "                                       'radiotap.channel.type.ofdm',\n",
       "                                       'radiotap.channel.type.2ghz',\n",
       "                                       'radiotap.channel.type.5ghz',\n",
       "                                       'radiotap.channel.type.passive',\n",
       "                                       'radiotap.channel.type.dynamic',\n",
       "                                       'radiotap.channel.type.gfsk',\n",
       "                                       'radiotap.channel.type.gsm',\n",
       "                                       'radiotap.channel.type.sturbo',\n",
       "                                       'radiotap.channel.type.half',\n",
       "                                       'radiotap.channel.type.quarter',\n",
       "                                       'radiotap.dbm_antsignal',\n",
       "                                       'radiotap.antenna', ...],\n",
       "                             threshold=0.8))]"
      ]
     },
     "execution_count": 15,
     "metadata": {},
     "output_type": "execute_result"
    }
   ],
   "source": [
    "from sklearn.pipeline import Pipeline\n",
    "\n",
    "data_pipe = Pipeline(tf_ann_pipe.steps[:-2])\n",
    "data_pipe.steps"
   ]
  },
  {
   "cell_type": "code",
   "execution_count": 23,
   "metadata": {},
   "outputs": [
    {
     "ename": "TypeError",
     "evalue": "tuple indices must be integers or slices, not str",
     "output_type": "error",
     "traceback": [
      "\u001b[1;31m---------------------------------------------------------------------------\u001b[0m",
      "\u001b[1;31mTypeError\u001b[0m                                 Traceback (most recent call last)",
      "\u001b[1;32m<ipython-input-23-73089d442b41>\u001b[0m in \u001b[0;36m<module>\u001b[1;34m\u001b[0m\n\u001b[0;32m      1\u001b[0m \u001b[0mtest\u001b[0m \u001b[1;33m=\u001b[0m \u001b[0mload_dataset\u001b[0m\u001b[1;33m(\u001b[0m\u001b[0mfile_name\u001b[0m\u001b[1;33m=\u001b[0m\u001b[1;34m'AWID-CLS-R-Tst.csv'\u001b[0m\u001b[1;33m)\u001b[0m\u001b[1;33m\u001b[0m\u001b[1;33m\u001b[0m\u001b[0m\n\u001b[0;32m      2\u001b[0m \u001b[0mtest_pd\u001b[0m \u001b[1;33m=\u001b[0m \u001b[0mprepare_data\u001b[0m\u001b[1;33m(\u001b[0m\u001b[0mtest\u001b[0m\u001b[1;33m,\u001b[0m \u001b[1;32mFalse\u001b[0m\u001b[1;33m)\u001b[0m\u001b[1;33m\u001b[0m\u001b[1;33m\u001b[0m\u001b[0m\n\u001b[1;32m----> 3\u001b[1;33m \u001b[0mX_test\u001b[0m\u001b[1;33m,\u001b[0m \u001b[0my_test\u001b[0m \u001b[1;33m=\u001b[0m \u001b[0mget_target\u001b[0m\u001b[1;33m(\u001b[0m\u001b[0mtest_pd\u001b[0m\u001b[1;33m)\u001b[0m\u001b[1;33m\u001b[0m\u001b[1;33m\u001b[0m\u001b[0m\n\u001b[0m",
      "\u001b[1;32m~\\Documents\\ProfessionalDevelopment\\DataSciencePortfolio\\AWID-CyberSecurity\\packages\\tf_ann_model\\tf_ann_model\\processing\\data_management.py\u001b[0m in \u001b[0;36mget_target\u001b[1;34m(df)\u001b[0m\n\u001b[0;32m     47\u001b[0m \u001b[1;32mdef\u001b[0m \u001b[0mget_target\u001b[0m\u001b[1;33m(\u001b[0m\u001b[0mdf\u001b[0m\u001b[1;33m)\u001b[0m\u001b[1;33m:\u001b[0m\u001b[1;33m\u001b[0m\u001b[1;33m\u001b[0m\u001b[0m\n\u001b[0;32m     48\u001b[0m \u001b[1;33m\u001b[0m\u001b[0m\n\u001b[1;32m---> 49\u001b[1;33m     \u001b[0my\u001b[0m \u001b[1;33m=\u001b[0m \u001b[0mdf\u001b[0m\u001b[1;33m[\u001b[0m\u001b[0mconfig\u001b[0m\u001b[1;33m.\u001b[0m\u001b[0mTARGET\u001b[0m\u001b[1;33m]\u001b[0m\u001b[1;33m\u001b[0m\u001b[1;33m\u001b[0m\u001b[0m\n\u001b[0m\u001b[0;32m     50\u001b[0m \u001b[1;33m\u001b[0m\u001b[0m\n\u001b[0;32m     51\u001b[0m     \u001b[1;32mreturn\u001b[0m \u001b[0mdf\u001b[0m\u001b[1;33m,\u001b[0m \u001b[0my\u001b[0m\u001b[1;33m\u001b[0m\u001b[1;33m\u001b[0m\u001b[0m\n",
      "\u001b[1;31mTypeError\u001b[0m: tuple indices must be integers or slices, not str"
     ]
    }
   ],
   "source": [
    "test = load_dataset(file_name='AWID-CLS-R-Tst.csv')\n",
    "X_test, y_test = prepare_data(test, False)"
   ]
  },
  {
   "cell_type": "code",
   "execution_count": null,
   "metadata": {},
   "outputs": [],
   "source": [
    "X_test_bad = test_pd[y_test != y_test_pred]\n",
    "y_test_bad = y_test[y_test != y_test_pred]\n",
    "X_test_bad = data_pipe.transform(X_test_bad)\n",
    "X_test_bad['class'] = y_test_bad\n",
    "X_test_bad['frame.time_epoch'] = test_ds['frame.time_epoch']"
   ]
  },
  {
   "cell_type": "code",
   "execution_count": null,
   "metadata": {},
   "outputs": [],
   "source": [
    "import matplotlib.pyplot as plt\n",
    "from IPython.core.display import HTML\n",
    "import seaborn as sns\n",
    "from scipy import stats\n",
    "import numpy as np\n",
    "import pandas as pd"
   ]
  },
  {
   "cell_type": "code",
   "execution_count": null,
   "metadata": {},
   "outputs": [],
   "source": [
    "from tf_ann_model.processing.feat_eng_categ import one_hot_encoder\n",
    "ohe = one_hot_encoder(features='class')\n",
    "X_test_bad = ohe.fit_transform(X_test_bad)"
   ]
  },
  {
   "cell_type": "code",
   "execution_count": null,
   "metadata": {},
   "outputs": [],
   "source": [
    "def h(content):\n",
    "    display(HTML(content))\n",
    "    \n",
    "def timehist(df, tcol, target, col, target_first, clipping=9999999999999999, concat_df = False, odf = None):\n",
    "    if concat_df == True:\n",
    "        df = pd.concat([df, odf])\n",
    "        \n",
    "    title = target + ' Hist ' + col\n",
    "    if( target_first==True):\n",
    "        df[df[target] == 1].set_index(tcol)[col].clip(0, clipping).plot(style='.', figsize=(15, 3))\n",
    "        df[df[target] == 0].set_index(tcol)[col].clip(0, clipping).plot(style='.', figsize=(15, 3))\n",
    "        plt.title(title)\n",
    "        plt.show()\n",
    "    elif( target_first==False):\n",
    "        df[df[target] == 0].set_index(tcol)[col].clip(0, clipping).plot(style='.', title= title, figsize=(15, 3))\n",
    "        df[df[target] == 1].set_index(tcol)[col].clip(0, clipping).plot(style='.', title= title, figsize=(15, 3))\n",
    "        plt.title(title)\n",
    "        plt.show()"
   ]
  },
  {
   "cell_type": "code",
   "execution_count": null,
   "metadata": {},
   "outputs": [],
   "source": [
    "def _desc(data, col, label):\n",
    "    d0 = data.describe().reset_index()\n",
    "    d0.columns = [col, label]\n",
    "    return d0.append({col:'unique values', label:data.unique().shape[0]}, ignore_index=True) \\\n",
    "             .append({col:'NaNs', label:data.isnull().sum()}, ignore_index=True) \\\n",
    "             .append({col:'NaNs share', label:np.round(data.isnull().sum() / data.shape[0], 4)}, ignore_index=True) \\\n",
    "\n",
    "def desc(df_train, col, target, include_test=False, df_test=None):\n",
    "    d0 = _desc(df_train[col], col, 'Train')\n",
    "    d1 = _desc(df_train.loc[df_train[target] == 1, col], col, 'Train normal')\n",
    "    d2 = _desc(df_train.loc[df_train[target] == 0, col], col, 'Train not normal')\n",
    "    if( include_test):\n",
    "        d3 = _desc(df_test[col], col, 'Test')\n",
    "        d4 = _desc(df_test.loc[df_test[target] == 1, col], col, 'Test normal')\n",
    "        d5 = _desc(df_test.loc[df_test[target] == 0, col], col, 'Test not normal')\n",
    "    if( include_test):\n",
    "        dd = d0.merge(d1).merge(d2).merge(d3).merge(d4).merge(d5)\n",
    "    else:\n",
    "        dd = d0.merge(d1).merge(d2)\n",
    "    display(dd)\n",
    "    \n",
    "    h('<b>Most popular values (NaN = -999):</b>')\n",
    "    N = 10\n",
    "    d0 = df_train[[target,col]].groupby(col)[target].agg(['size','mean','sum']).reset_index().sort_values('size', ascending=False).reset_index(drop=True)\n",
    "    d0 = d0.head(N)\n",
    "    d0 = d0.rename({'size':'Count in train (desc)','mean':'Mean target train','sum':'Sum target train'}, axis=1)\n",
    "    display(d0)\n",
    "    \n",
    "    if( include_test):\n",
    "        d1 = df_test[[target,col]].groupby(col)[target].agg(['size','mean','sum']).reset_index().sort_values('size', ascending=False).reset_index(drop=True)\n",
    "        d1 = d1.head(N)\n",
    "        d1 = d1.rename({'size':'Count in test (desc)','mean':'Mean target test','sum':'Sum target test'}, axis=1)\n",
    "        display(d1)"
   ]
  },
  {
   "cell_type": "code",
   "execution_count": null,
   "metadata": {},
   "outputs": [],
   "source": [
    "def hist1(df,col):\n",
    "    plt.figure(figsize=(15, 3))\n",
    "    plt.hist(df[col], bins=70);\n",
    "    plt.title('Train histogram: ' + col);\n",
    "    plt.show()"
   ]
  },
  {
   "cell_type": "code",
   "execution_count": null,
   "metadata": {},
   "outputs": [],
   "source": [
    "def corr1(df,col):\n",
    "    N = None #10000\n",
    "    num_vars = [f for f in df.columns if df[f].dtype != 'object']\n",
    "    trx = df.head(N) if N is not None else df.copy()\n",
    "    corrs = trx[num_vars].corrwith(trx[col]).reset_index().sort_values(0, ascending=False).reset_index(drop=True).rename({'index':'Column',0:'Correlation with ' + col}, axis=1)\n",
    "    h('<b>Most correlated values with ' + col + ':</b>')\n",
    "    trx = pd.concat([corrs.head(6), corrs.dropna().tail(5)])\n",
    "    def linkx(val):\n",
    "        return '<a href=\"#c_{}\">{}</a>'.format(val, val)\n",
    "    trx['Column'] = trx['Column'].apply(linkx)\n",
    "    h(trx.to_html(escape=False))"
   ]
  },
  {
   "cell_type": "code",
   "execution_count": null,
   "metadata": {},
   "outputs": [],
   "source": [
    "def numeric(df_input, tcol_input, target_input, col_input, target_first_input, df_test, include_test):\n",
    "    timehist(df=df_input, tcol=tcol_input, target=target_input, col=col_input, target_first=target_first_input, odf=df_test, concat_df=include_test)\n",
    "    hist1(df_input,col_input)\n",
    "    desc(df_input, col_input, target_input, include_test, df_test)\n",
    "    corr1(df_input,col_input)"
   ]
  },
  {
   "cell_type": "code",
   "execution_count": null,
   "metadata": {},
   "outputs": [],
   "source": [
    "def categorical(df, col, target, df_test, include_test):\n",
    "    desc(df, col, target, include_test, df_test)"
   ]
  },
  {
   "cell_type": "code",
   "execution_count": null,
   "metadata": {},
   "outputs": [],
   "source": [
    "def proc(df, tcol, target, col, target_first, df_test, include_test):\n",
    "    if col not in ['isFraud','TransactionDT']:\n",
    "        h('<h3 id=\"c_' + col + '\">' + col + '</h3>' + '<a style=\"font-size:11px\" href=\"#home\">(Jump to top)</a>')\n",
    "        categorical(df, col, target, df_test, include_test) if df[col].dtype == 'object' else numeric(df, tcol, target, col, target_first, df_test, include_test)"
   ]
  },
  {
   "cell_type": "code",
   "execution_count": null,
   "metadata": {},
   "outputs": [],
   "source": [
    "columns = list(X_test_bad.columns)\n",
    "for x in ['frame.time_epoch', 'class_normal', 'class_injection', 'class_impersonation', 'class_flooding']:\n",
    "    columns.remove(x)"
   ]
  },
  {
   "cell_type": "code",
   "execution_count": null,
   "metadata": {
    "scrolled": false
   },
   "outputs": [],
   "source": [
    "for col in columns:\n",
    "    proc(df=X_test_bad, tcol='frame.time_epoch', target='class_normal', col=col, target_first=True, df_test=None, include_test=False)"
   ]
  },
  {
   "cell_type": "code",
   "execution_count": null,
   "metadata": {},
   "outputs": [],
   "source": [
    "X_test_bad.shape"
   ]
  },
  {
   "cell_type": "code",
   "execution_count": null,
   "metadata": {},
   "outputs": [],
   "source": [
    "for col in X_test_bad.columns:\n",
    "    print(col)"
   ]
  },
  {
   "cell_type": "code",
   "execution_count": null,
   "metadata": {},
   "outputs": [],
   "source": [
    "from tensorflow.keras.callbacks import LearningRateScheduler\n",
    "from tensorflow.keras import models, layers\n",
    "from tensorflow.keras.callbacks import ReduceLROnPlateau, ModelCheckpoint\n",
    "from tf_ann_model.config import config\n",
    "from tf_ann_model.processing.data_management import load_dataset, get_target\n",
    "from tf_ann_model import pipeline\n",
    "from tensorflow.keras.wrappers.scikit_learn import KerasClassifier\n",
    "from sklearn.preprocessing import LabelEncoder\n",
    "import tensorflow as tf"
   ]
  },
  {
   "cell_type": "code",
   "execution_count": null,
   "metadata": {},
   "outputs": [],
   "source": [
    "data = load_dataset(file_name=config.TRAINING_DATA_FILE)\n",
    "val = load_dataset(file_name=config.TESTING_DATA_FILE)\n",
    "\n",
    "X_train, y_train = get_target(data)\n",
    "X_val, y_val = get_target(val)\n",
    "    \n",
    "encoder = LabelEncoder()\n",
    "y_train = encoder.fit_transform(y_train)\n",
    "y_val = encoder.transform(y_val)\n",
    "\n",
    "y_train = tf.keras.utils.to_categorical( y_train, num_classes=4)\n",
    "y_val = tf.keras.utils.to_categorical( y_val, num_classes=4)"
   ]
  },
  {
   "cell_type": "code",
   "execution_count": null,
   "metadata": {},
   "outputs": [],
   "source": [
    "pipeline.fe_pipe.fit(X_train)\n",
    "X_val = pipeline.fe_pipe.transform(X_val)"
   ]
  },
  {
   "cell_type": "code",
   "execution_count": 22,
   "metadata": {},
   "outputs": [
    {
     "data": {
      "text/plain": [
       "(575642, 155)"
      ]
     },
     "execution_count": 22,
     "metadata": {},
     "output_type": "execute_result"
    }
   ],
   "source": [
    "X_val.shape"
   ]
  },
  {
   "cell_type": "code",
   "execution_count": null,
   "metadata": {},
   "outputs": [],
   "source": []
  }
 ],
 "metadata": {
  "kernelspec": {
   "display_name": "Python 3",
   "language": "python",
   "name": "python3"
  },
  "language_info": {
   "codemirror_mode": {
    "name": "ipython",
    "version": 3
   },
   "file_extension": ".py",
   "mimetype": "text/x-python",
   "name": "python",
   "nbconvert_exporter": "python",
   "pygments_lexer": "ipython3",
   "version": "3.7.6"
  }
 },
 "nbformat": 4,
 "nbformat_minor": 4
}
